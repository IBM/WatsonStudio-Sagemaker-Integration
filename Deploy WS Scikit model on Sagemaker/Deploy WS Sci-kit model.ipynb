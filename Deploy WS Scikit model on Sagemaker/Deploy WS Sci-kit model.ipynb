{
 "cells": [
  {
   "cell_type": "markdown",
   "id": "f25313da-0763-4668-ac1a-ad4f05e14ded",
   "metadata": {},
   "source": [
    "## Deploy Utilities Demand Response Sci-kit model on Sagemaker\n",
    "The Utilities Demand Response model predicts how likely a customer is to enroll in the Demand Response Program. The models are built based on customer demographic, retail details and historical energy usage. We trained the model using sci-kit libraries using jupyter notebook on IBM Cloud pak for data.\n",
    "\n",
    "This notebook shows how to use a pre-trained sci-kit model with the Amazon SageMaker scikit-learn container to quickly create a hosted endpoint for that model. "
   ]
  },
  {
   "cell_type": "markdown",
   "id": "b850023d-286e-4690-996b-838fe3d9f8f1",
   "metadata": {},
   "source": [
    "Inoder to run/test this notebook we will require below libraries. Uncomment the below cell if the libraries are not already installed"
   ]
  },
  {
   "cell_type": "code",
   "execution_count": 2,
   "id": "8e590ce3-e288-426f-8180-ed5c9a0e33e0",
   "metadata": {},
   "outputs": [],
   "source": [
    "#!pip install sagemaker\n",
    "#!pip install pandas"
   ]
  },
  {
   "cell_type": "code",
   "execution_count": 3,
   "id": "302fc7fb-2811-4f39-aef6-a94115fa9d95",
   "metadata": {},
   "outputs": [],
   "source": [
    "import os\n",
    "import boto3\n",
    "import re\n",
    "import json\n",
    "import pandas as pd\n",
    "import numpy as np\n",
    "import sagemaker\n",
    "from sagemaker import get_execution_role\n",
    "import time\n",
    "\n",
    "\n",
    "import subprocess\n",
    "from time import gmtime, strftime\n",
    "\n",
    "import warnings\n",
    "warnings.filterwarnings('ignore')\n",
    "warnings.simplefilter('ignore')"
   ]
  },
  {
   "cell_type": "markdown",
   "id": "a8556a3b-515b-44b2-a1b9-30a3e157c104",
   "metadata": {},
   "source": [
    "#### Setup Sagemaker Environment\n",
    "We can set up the sagemaker environment using `boto3`. Below cell sets AWS region, The IAM role arn used to give learning and hosting access to data, The S3 bucket that you want to use for training and model data."
   ]
  },
  {
   "cell_type": "code",
   "execution_count": 4,
   "id": "0dfdf5d5-682d-4113-802f-22e5a1450f3e",
   "metadata": {},
   "outputs": [
    {
     "name": "stdout",
     "output_type": "stream",
     "text": [
      "bucket: sagemaker-us-east-1-849589503910\n"
     ]
    }
   ],
   "source": [
    "\n",
    "\n",
    "region = boto3.Session().region_name\n",
    "\n",
    "role = get_execution_role()\n",
    "\n",
    "bucket = sagemaker.Session().default_bucket()\n",
    "prefix = \"sagemaker/DEMO-AutoAIsklearn-byo-model\"\n",
    "s3 = boto3.Session().resource('s3')\n",
    "\n",
    "client = boto3.client(service_name=\"sagemaker\")\n",
    "\n",
    "print(f\"bucket: {bucket}\")"
   ]
  },
  {
   "cell_type": "code",
   "execution_count": 5,
   "id": "e64df08e-8f3e-47a0-8318-112145d2375e",
   "metadata": {},
   "outputs": [],
   "source": [
    "## Uncomment this cell to test the model locally\n",
    "#df_score=pd.read_csv('DemandResponseHoldout.csv')\n",
    "\n",
    "#!pip install scikit-learn==1.0.1\n",
    "#\n",
    "#import sklearn\n",
    "#import joblib\n",
    "#\n",
    "\n",
    "#scikit_model=joblib.load(os.path.join(\"scikit_model.pkl\"))\n",
    "\n",
    "# Fetch the columns from the transformer\n",
    "\n",
    "#cols=[]\n",
    "#for i in range(0,3):\n",
    "#    columns=scikit_model.named_steps['preprocessor'].transformers_[i][2]\n",
    "#    cols = cols+columns\n",
    "#\n",
    "#scikit_model.predict_proba(df_score[cols].head(5))"
   ]
  },
  {
   "cell_type": "markdown",
   "id": "2ffcc8e2-25d0-4197-9d35-e31c7461f744",
   "metadata": {},
   "source": [
    "## Package pre-trained model contents and upload the file to S3"
   ]
  },
  {
   "cell_type": "markdown",
   "id": "05801574-1258-4e17-9a3b-bd658cd82843",
   "metadata": {},
   "source": [
    "Below cell packages all the model contents and uploads the tar file to S3 bucket. The model contents include following files.\n",
    "\n",
    "1. **scikit_model.pkl**: Sci-kit model pickle file exported from watson studio project.<br>\n",
    "2. **inference.py**: An entry point script which contains following functions. <br>\n",
    "`input_fn()` - Takes request data and deserializes the data into an object for prediction.  <br>\n",
    "`output_fn()` - Takes the result of prediction and serializes this according to the response content type.  <br>\n",
    "`predict_fn()` - Function that takes the deserialized request object and performs inference against the loaded model.  <br>\n",
    "`model_fn()` - Function to load the model.  <br>\n",
    "\n",
    "Additional information on model loading and model serving for scikit-learn on SageMaker can be found in the [SageMaker Scikit-learn Model Server documentation](https://sagemaker.readthedocs.io/en/stable/frameworks/sklearn/using_sklearn.html#deploy-a-scikit-learn-model). <br>\n",
    "3. **requirements.txt** It installs additional Python dependencies required to run inference script. "
   ]
  },
  {
   "cell_type": "code",
   "execution_count": 6,
   "id": "2b0a3895-b2f9-4cd0-92bc-fce84ebf9c93",
   "metadata": {},
   "outputs": [],
   "source": [
    "\n",
    "bashCommand = \"tar -cvpzf WS_scikit_model.tar.gz scikit_model.pkl inference.py requirements.txt\"\n",
    "process = subprocess.Popen(bashCommand.split(), stdout=subprocess.PIPE)\n",
    "output, error = process.communicate()\n",
    "\n",
    "#Upload tar.gz to bucket\n",
    "model_artifacts = f\"s3://{bucket}/WS_scikit_model.tar.gz\"\n",
    "response = s3.meta.client.upload_file('WS_scikit_model.tar.gz', bucket, 'WS_scikit_model.tar.gz')\n",
    "response"
   ]
  },
  {
   "cell_type": "markdown",
   "id": "7aab8fae-100a-4cad-aaa4-b527df795a18",
   "metadata": {},
   "source": [
    "## Deploy with Python SDK\n",
    "Once the model is packaged and loaded into S3 bucket, we follow these steps to deploy the model.\n",
    "1. Retrieve the Sklearn image for inference directly from SageMaker using the SageMaker SDK.\n",
    "2. Create Sagemaker model using the uploaded model and the image\n",
    "3. Create Endpoint Configuration, by specifying instance type and count we want for our endpoint.\n",
    "4. Use the configuration created in step 3 and create an endpoint. This step takes few minutes to complete\n"
   ]
  },
  {
   "cell_type": "markdown",
   "id": "4d965dda-a81a-4c58-801c-066579b11814",
   "metadata": {},
   "source": [
    "Below cell retrieves the Sklearn image for inference directly from SageMaker using the SageMaker SDK."
   ]
  },
  {
   "cell_type": "code",
   "execution_count": 7,
   "id": "2290f801-d494-4b1d-9a39-3f503709e124",
   "metadata": {},
   "outputs": [],
   "source": [
    "#Step 1: Model Creation\n",
    "image_uri = sagemaker.image_uris.retrieve(\n",
    "    framework=\"sklearn\",\n",
    "    region=region,\n",
    "    version=\"1.0-1\",\n",
    "    py_version=\"py3\",\n",
    "    instance_type=\"ml.m5.xlarge\",\n",
    ")"
   ]
  },
  {
   "cell_type": "markdown",
   "id": "9a95bda5-d297-4448-b057-0a3e8bc62edd",
   "metadata": {},
   "source": [
    "Below cell creates Sagemaker model using the uploaded model and the image. Model name can be updated using `model_name` variable."
   ]
  },
  {
   "cell_type": "code",
   "execution_count": 8,
   "id": "b4ee98d6-e3f8-4b3a-9c82-b0a6a862c67c",
   "metadata": {},
   "outputs": [
    {
     "name": "stdout",
     "output_type": "stream",
     "text": [
      "Model name: SKLearn-demandresponse09-11-23-51\n",
      "Model Arn: arn:aws:sagemaker:us-east-1:849589503910:model/sklearn-demandresponse09-11-23-51\n"
     ]
    }
   ],
   "source": [
    "\n",
    "#Step 2: Model Creation\n",
    "model_name = \"SKLearn-demandresponse\" + strftime(\"%d-%H-%M-%S\", gmtime())\n",
    "print(\"Model name: \" + model_name)\n",
    "create_model_response = client.create_model(\n",
    "    ModelName=model_name,\n",
    "    Containers=[\n",
    "        {\n",
    "            \"Image\": image_uri,\n",
    "            \"Mode\": \"SingleModel\",\n",
    "            \"ModelDataUrl\": model_artifacts,\n",
    "            \"Environment\": {'SAGEMAKER_SUBMIT_DIRECTORY': model_artifacts,\n",
    "                           'SAGEMAKER_PROGRAM': 'inference.py'} \n",
    "        }\n",
    "    ],\n",
    "    ExecutionRoleArn=role,\n",
    ")\n",
    "print(\"Model Arn: \" + create_model_response[\"ModelArn\"])"
   ]
  },
  {
   "cell_type": "markdown",
   "id": "30e0b8ea-e0be-49a3-b9eb-5f67e0bb2475",
   "metadata": {},
   "source": [
    "Below cell configures endpoint , by specifying instance type and count we want for our endpoint."
   ]
  },
  {
   "cell_type": "code",
   "execution_count": 9,
   "id": "77f741a0-97ff-4226-a49e-6b1cb0f3d10f",
   "metadata": {},
   "outputs": [
    {
     "name": "stdout",
     "output_type": "stream",
     "text": [
      "Endpoint Configuration Arn: arn:aws:sagemaker:us-east-1:849589503910:endpoint-config/sklearn-demandresponse09-11-23-54\n"
     ]
    }
   ],
   "source": [
    "\n",
    "#Step 3: EPC Creation\n",
    "sklearn_epc_name = \"SKLearn-demandresponse\" + strftime(\"%d-%H-%M-%S\", gmtime())\n",
    "endpoint_config_response = client.create_endpoint_config(\n",
    "    EndpointConfigName=sklearn_epc_name,\n",
    "    ProductionVariants=[\n",
    "        {\n",
    "            \"VariantName\": \"sklearnvariant\",\n",
    "            \"ModelName\": model_name,\n",
    "            \"InstanceType\": \"ml.c5.large\",\n",
    "            \"InitialInstanceCount\": 1\n",
    "        },\n",
    "    ],\n",
    ")\n",
    "print(\"Endpoint Configuration Arn: \" + endpoint_config_response[\"EndpointConfigArn\"])"
   ]
  },
  {
   "cell_type": "markdown",
   "id": "338b2c96-a8af-483c-893e-1df2d71516d7",
   "metadata": {},
   "source": [
    "Below cell uses the configuration created in step 3 and create an endpoint. Name for the endpoint can be updated in the variable `endpoint_name`. This step takes few minutes to complete"
   ]
  },
  {
   "cell_type": "code",
   "execution_count": 10,
   "id": "c8bccafc-0e41-47b8-9d7a-b8533453af37",
   "metadata": {},
   "outputs": [
    {
     "name": "stdout",
     "output_type": "stream",
     "text": [
      "Endpoint Arn: arn:aws:sagemaker:us-east-1:849589503910:endpoint/sklearn-demandresponse-ep09-11-23-56\n",
      "Creating\n",
      "Creating\n",
      "Creating\n",
      "Creating\n",
      "Creating\n",
      "Creating\n",
      "Creating\n",
      "Creating\n",
      "Creating\n",
      "InService\n",
      "{'EndpointName': 'SKLearn-demandresponse-ep09-11-23-56', 'EndpointArn': 'arn:aws:sagemaker:us-east-1:849589503910:endpoint/sklearn-demandresponse-ep09-11-23-56', 'EndpointConfigName': 'SKLearn-demandresponse09-11-23-54', 'ProductionVariants': [{'VariantName': 'sklearnvariant', 'DeployedImages': [{'SpecifiedImage': '683313688378.dkr.ecr.us-east-1.amazonaws.com/sagemaker-scikit-learn:1.0-1-cpu-py3', 'ResolvedImage': '683313688378.dkr.ecr.us-east-1.amazonaws.com/sagemaker-scikit-learn@sha256:e7887de688db0abeb4ae7f0467d18c69c613d3795bc23c425ec0574b19b81350', 'ResolutionTime': datetime.datetime(2022, 11, 9, 11, 23, 57, 295000, tzinfo=tzlocal())}], 'CurrentWeight': 1.0, 'DesiredWeight': 1.0, 'CurrentInstanceCount': 1, 'DesiredInstanceCount': 1}], 'EndpointStatus': 'InService', 'CreationTime': datetime.datetime(2022, 11, 9, 11, 23, 56, 697000, tzinfo=tzlocal()), 'LastModifiedTime': datetime.datetime(2022, 11, 9, 11, 26, 1, 168000, tzinfo=tzlocal()), 'ResponseMetadata': {'RequestId': '0aee98b0-68ac-45f1-89f7-3905839e9b3e', 'HTTPStatusCode': 200, 'HTTPHeaders': {'x-amzn-requestid': '0aee98b0-68ac-45f1-89f7-3905839e9b3e', 'content-type': 'application/x-amz-json-1.1', 'content-length': '772', 'date': 'Wed, 09 Nov 2022 11:26:12 GMT'}, 'RetryAttempts': 0}}\n"
     ]
    }
   ],
   "source": [
    "#Step 4: EP Creation\n",
    "endpoint_name = \"SKLearn-demandresponse-ep\" + strftime(\"%d-%H-%M-%S\", gmtime())\n",
    "create_endpoint_response = client.create_endpoint(\n",
    "    EndpointName=endpoint_name,\n",
    "    EndpointConfigName=sklearn_epc_name,\n",
    ")\n",
    "print(\"Endpoint Arn: \" + create_endpoint_response[\"EndpointArn\"])\n",
    "\n",
    "\n",
    "#Monitor creation\n",
    "describe_endpoint_response = client.describe_endpoint(EndpointName=endpoint_name)\n",
    "while describe_endpoint_response[\"EndpointStatus\"] == \"Creating\":\n",
    "    describe_endpoint_response = client.describe_endpoint(EndpointName=endpoint_name)\n",
    "    print(describe_endpoint_response[\"EndpointStatus\"])\n",
    "    time.sleep(15)\n",
    "print(describe_endpoint_response)"
   ]
  },
  {
   "cell_type": "markdown",
   "id": "210627a0-cbe9-4226-bc02-40e0e231eafe",
   "metadata": {},
   "source": [
    "### Test endpoints with sample scoring"
   ]
  },
  {
   "cell_type": "markdown",
   "id": "95b6bc66-a138-45d7-8d74-d5059cecfede",
   "metadata": {},
   "source": [
    "If the endpoint is successfullt created, We can  test our endpoint with a sample scoring data. Sample file `DemandResponseHoldout.csv` is provided in the folder to test the scoring."
   ]
  },
  {
   "cell_type": "code",
   "execution_count": 11,
   "id": "155632bb-c9dd-4241-aa90-69febfe459f2",
   "metadata": {},
   "outputs": [
    {
     "name": "stdout",
     "output_type": "stream",
     "text": [
      "[[0.9273475228581084, 0.07265247714189171], [0.7857858278439955, 0.21421417215600452], [0.9212587131678012, 0.07874128683219879], [0.9482537505719867, 0.05174624942801344], [0.9032694912568143, 0.0967305087431857]]\n"
     ]
    }
   ],
   "source": [
    "df_score=pd.read_csv('DemandResponseHoldout.csv')\n",
    "\n",
    "runtime_client = boto3.client('sagemaker-runtime')\n",
    "content_type = \"application/json\"\n",
    "request_body = {\"Input\": df_score.head(5).values.tolist()}\n",
    "data = json.loads(json.dumps(request_body))\n",
    "data['Headers']=df_score.columns.tolist()\n",
    "payload = json.dumps(data)\n",
    "\n",
    "\n",
    "\n",
    "response = runtime_client.invoke_endpoint(\n",
    "    EndpointName=endpoint_name,\n",
    "    ContentType=content_type,\n",
    "    Body=payload)\n",
    "result = json.loads(response['Body'].read().decode())['Output']\n",
    "print(result)"
   ]
  },
  {
   "cell_type": "markdown",
   "id": "914721b6-a009-493c-a864-9102aba12349",
   "metadata": {},
   "source": [
    "Uncomment the below cell to delete the endpoints. "
   ]
  },
  {
   "cell_type": "code",
   "execution_count": 83,
   "id": "9ddbb89e-f773-4171-bd7c-96c2acfaeadd",
   "metadata": {},
   "outputs": [],
   "source": [
    "#endpoint_name=\"SKLearn-demandresponse-ep09-10-58-43\"\n",
    "#response = client.delete_endpoint(\n",
    "#    EndpointName=endpoint_name\n",
    "#)"
   ]
  }
 ],
 "metadata": {
  "instance_type": "ml.t3.medium",
  "kernelspec": {
   "display_name": "Python 3 (Base Python 2.0)",
   "language": "python",
   "name": "python3__SAGEMAKER_INTERNAL__arn:aws:sagemaker:us-east-1:081325390199:image/sagemaker-base-python-38"
  },
  "language_info": {
   "codemirror_mode": {
    "name": "ipython",
    "version": 3
   },
   "file_extension": ".py",
   "mimetype": "text/x-python",
   "name": "python",
   "nbconvert_exporter": "python",
   "pygments_lexer": "ipython3",
   "version": "3.8.12"
  }
 },
 "nbformat": 4,
 "nbformat_minor": 5
}
